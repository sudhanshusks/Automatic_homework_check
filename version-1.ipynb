{
 "cells": [
  {
   "cell_type": "code",
   "execution_count": 1,
   "metadata": {
    "collapsed": true
   },
   "outputs": [],
   "source": [
    "import sys\n",
    "from pdfminer.pdfparser import PDFParser\n",
    "from pdfminer.pdfdocument import PDFDocument\n",
    "from pdfminer.pdftypes import resolve1\n",
    "from fpdf import FPDF\n",
    "import json\n",
    "import pandas as pd\n"
   ]
  },
  {
   "cell_type": "code",
   "execution_count": 2,
   "metadata": {},
   "outputs": [
    {
     "name": "stdout",
     "output_type": "stream",
     "text": [
      "quest1: 21.0\n",
      "quest2: 22.0\n",
      "quest3: 31.0\n",
      "quest4: 42.0\n"
     ]
    }
   ],
   "source": [
    "filename = sys.argv[1]\n",
    "fp = open(\"untitled-2.pdf\", 'rb')\n",
    "\n",
    "parser = PDFParser(fp)\n",
    "doc = PDFDocument(parser)\n",
    "fields = resolve1(doc.catalog['AcroForm'])['Fields']\n",
    "given_ans= {}\n",
    "for i in fields:\n",
    "    field = resolve1(i)\n",
    "    name, value = field.get('T'), field.get('V')\n",
    "    name= name.decode('utf-8')\n",
    "    value= float(value.decode('utf-8'))\n",
    "    print ('{0}: {1}'.format(name, value))\n",
    "    given_ans[name]= value"
   ]
  },
  {
   "cell_type": "code",
   "execution_count": 3,
   "metadata": {},
   "outputs": [
    {
     "name": "stdout",
     "output_type": "stream",
     "text": [
      "42.0\n"
     ]
    }
   ],
   "source": [
    "print(value)"
   ]
  },
  {
   "cell_type": "code",
   "execution_count": 30,
   "metadata": {
    "collapsed": true
   },
   "outputs": [],
   "source": [
    "model_ans= {}\n",
    "model_ans['quest1']= 20\n",
    "model_ans['quest2']= 24\n",
    "model_ans['quest3']= 30\n",
    "model_ans['quest4']= 42"
   ]
  },
  {
   "cell_type": "code",
   "execution_count": 31,
   "metadata": {},
   "outputs": [
    {
     "data": {
      "text/plain": [
       "21.0"
      ]
     },
     "execution_count": 31,
     "metadata": {},
     "output_type": "execute_result"
    }
   ],
   "source": [
    "given_ans['quest1']"
   ]
  },
  {
   "cell_type": "code",
   "execution_count": 32,
   "metadata": {
    "collapsed": true
   },
   "outputs": [],
   "source": [
    "output= {}\n",
    "for key in given_ans:\n",
    "    if(model_ans[key] > given_ans[key]):\n",
    "        output[key]= \"Your answer is smaller than model answer by \"+ str(model_ans[key] - given_ans[key])\n",
    "    elif(model_ans[key] < given_ans[key]):\n",
    "        output[key]= \"Your answer is greater than model answer by \"+ str(given_ans[key] - model_ans[key])\n",
    "    else:\n",
    "        output[key]= \"Your answer is exactly correct !!!\""
   ]
  },
  {
   "cell_type": "code",
   "execution_count": 33,
   "metadata": {
    "collapsed": true
   },
   "outputs": [],
   "source": []
  },
  {
   "cell_type": "code",
   "execution_count": 34,
   "metadata": {},
   "outputs": [
    {
     "data": {
      "text/plain": [
       "dict_items([('quest1', 'Your answer is greater than model answer by 1.0'), ('quest2', 'Your answer is smaller than model answer by 2.0'), ('quest3', 'Your answer is greater than model answer by 1.0'), ('quest4', 'Your answer is exactly correct !!!')])"
      ]
     },
     "execution_count": 34,
     "metadata": {},
     "output_type": "execute_result"
    }
   ],
   "source": [
    "output.items()"
   ]
  },
  {
   "cell_type": "code",
   "execution_count": 35,
   "metadata": {},
   "outputs": [
    {
     "data": {
      "text/html": [
       "<div>\n",
       "<style>\n",
       "    .dataframe thead tr:only-child th {\n",
       "        text-align: right;\n",
       "    }\n",
       "\n",
       "    .dataframe thead th {\n",
       "        text-align: left;\n",
       "    }\n",
       "\n",
       "    .dataframe tbody tr th {\n",
       "        vertical-align: top;\n",
       "    }\n",
       "</style>\n",
       "<table border=\"1\" class=\"dataframe\">\n",
       "  <thead>\n",
       "    <tr style=\"text-align: right;\">\n",
       "      <th></th>\n",
       "      <th>Comment</th>\n",
       "    </tr>\n",
       "    <tr>\n",
       "      <th>Question</th>\n",
       "      <th></th>\n",
       "    </tr>\n",
       "  </thead>\n",
       "  <tbody>\n",
       "    <tr>\n",
       "      <th>quest1</th>\n",
       "      <td>Your answer is greater than model answer by 1.0</td>\n",
       "    </tr>\n",
       "    <tr>\n",
       "      <th>quest2</th>\n",
       "      <td>Your answer is smaller than model answer by 2.0</td>\n",
       "    </tr>\n",
       "    <tr>\n",
       "      <th>quest3</th>\n",
       "      <td>Your answer is greater than model answer by 1.0</td>\n",
       "    </tr>\n",
       "    <tr>\n",
       "      <th>quest4</th>\n",
       "      <td>Your answer is exactly correct !!!</td>\n",
       "    </tr>\n",
       "  </tbody>\n",
       "</table>\n",
       "</div>"
      ],
      "text/plain": [
       "                                                  Comment\n",
       "Question                                                 \n",
       "quest1    Your answer is greater than model answer by 1.0\n",
       "quest2    Your answer is smaller than model answer by 2.0\n",
       "quest3    Your answer is greater than model answer by 1.0\n",
       "quest4                 Your answer is exactly correct !!!"
      ]
     },
     "execution_count": 35,
     "metadata": {},
     "output_type": "execute_result"
    }
   ],
   "source": [
    "df= pd.DataFrame(list(output.items()), columns= ['Question', 'Comment'])\n",
    "df.set_index('Question')"
   ]
  },
  {
   "cell_type": "code",
   "execution_count": 36,
   "metadata": {
    "collapsed": true
   },
   "outputs": [],
   "source": [
    "df.to_html('file.html')"
   ]
  },
  {
   "cell_type": "code",
   "execution_count": 37,
   "metadata": {
    "collapsed": true
   },
   "outputs": [],
   "source": []
  },
  {
   "cell_type": "code",
   "execution_count": 41,
   "metadata": {
    "collapsed": true
   },
   "outputs": [],
   "source": [
    "def multipage_simple():\n",
    "    pdf = FPDF()\n",
    "    pdf.set_font(\"Arial\", size=12)\n",
    "    pdf.add_page()\n",
    "    for key in output:\n",
    "        # cell with 0 width and 10 height\n",
    "        # ln=1 is for line break\n",
    "        pdf.cell(0, 10, txt=\"{0} : {1}\".format(key, output[key]), ln=1, align= 'C')\n",
    "    pdf.output(\"multipage_simple.pdf\")"
   ]
  },
  {
   "cell_type": "code",
   "execution_count": 42,
   "metadata": {
    "collapsed": true
   },
   "outputs": [],
   "source": [
    "multipage_simple()"
   ]
  },
  {
   "cell_type": "code",
   "execution_count": null,
   "metadata": {
    "collapsed": true
   },
   "outputs": [],
   "source": []
  },
  {
   "cell_type": "code",
   "execution_count": 12,
   "metadata": {},
   "outputs": [
    {
     "name": "stdout",
     "output_type": "stream",
     "text": [
      "b'50'\n",
      "b'76'\n",
      "null\n",
      "null\n",
      "null\n"
     ]
    }
   ],
   "source": [
    "filename = sys.argv[1]\n",
    "fp = open(\"untitled-5.pdf\", 'rb')\n",
    "\n",
    "parser = PDFParser(fp)\n",
    "doc = PDFDocument(parser)\n",
    "fields = resolve1(doc.catalog['AcroForm'])['Fields']\n",
    "given_ans= {}\n",
    "for i in fields:\n",
    "    field = resolve1(i)\n",
    "    name, value = field.get('T'), field.get('V')\n",
    "    name= name.decode('utf-8')\n",
    "    value= str(value)\n",
    "    if(value== \"b''\"):\n",
    "        value= \"null\"\n",
    "    elif(value[0]== \"/\"):\n",
    "        value= \"null\"\n",
    "    else:\n",
    "        value= value\n",
    "#     print ('{0}: {1}'.format(name, value))\n",
    "    given_ans[name]= value\n",
    "    print(value)\n",
    "fp.close()"
   ]
  },
  {
   "cell_type": "code",
   "execution_count": null,
   "metadata": {
    "collapsed": true
   },
   "outputs": [],
   "source": []
  },
  {
   "cell_type": "code",
   "execution_count": null,
   "metadata": {
    "collapsed": true
   },
   "outputs": [],
   "source": []
  }
 ],
 "metadata": {
  "kernelspec": {
   "display_name": "Python 3",
   "language": "python",
   "name": "python3"
  },
  "language_info": {
   "codemirror_mode": {
    "name": "ipython",
    "version": 3
   },
   "file_extension": ".py",
   "mimetype": "text/x-python",
   "name": "python",
   "nbconvert_exporter": "python",
   "pygments_lexer": "ipython3",
   "version": "3.6.3"
  }
 },
 "nbformat": 4,
 "nbformat_minor": 2
}
