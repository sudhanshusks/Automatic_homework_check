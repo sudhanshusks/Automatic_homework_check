{
 "cells": [
  {
   "cell_type": "code",
   "execution_count": 1,
   "metadata": {
    "collapsed": true
   },
   "outputs": [],
   "source": [
    "import sys\n",
    "from pdfminer.pdfparser import PDFParser\n",
    "from pdfminer.pdfdocument import PDFDocument\n",
    "from pdfminer.pdftypes import resolve1\n",
    "from fpdf import FPDF\n",
    "import json\n",
    "import pandas as pd\n",
    "import os\n",
    "import matplotlib.pyplot as plt "
   ]
  },
  {
   "cell_type": "code",
   "execution_count": 2,
   "metadata": {
    "collapsed": true
   },
   "outputs": [],
   "source": [
    "folder_list= next(os.walk('.'))[1]\n",
    "folder_list= folder_list[1:]"
   ]
  },
  {
   "cell_type": "code",
   "execution_count": 3,
   "metadata": {},
   "outputs": [
    {
     "data": {
      "text/plain": [
       "['Guilherme', 'Mr. Stevan', 'sudhanshu']"
      ]
     },
     "execution_count": 3,
     "metadata": {},
     "output_type": "execute_result"
    }
   ],
   "source": [
    "folder_list"
   ]
  },
  {
   "cell_type": "code",
   "execution_count": 4,
   "metadata": {},
   "outputs": [
    {
     "data": {
      "text/plain": [
       "'.\\\\Guilherme'"
      ]
     },
     "execution_count": 4,
     "metadata": {},
     "output_type": "execute_result"
    }
   ],
   "source": [
    "location= os.path.join(os.curdir, \"Guilherme\")\n",
    "location"
   ]
  },
  {
   "cell_type": "code",
   "execution_count": 5,
   "metadata": {},
   "outputs": [
    {
     "data": {
      "text/plain": [
       "'.\\\\Guilherme\\\\hw1.pdf'"
      ]
     },
     "execution_count": 5,
     "metadata": {},
     "output_type": "execute_result"
    }
   ],
   "source": [
    "location+\"\\hw1.pdf\""
   ]
  },
  {
   "cell_type": "code",
   "execution_count": null,
   "metadata": {
    "collapsed": true
   },
   "outputs": [],
   "source": []
  },
  {
   "cell_type": "code",
   "execution_count": 10,
   "metadata": {
    "collapsed": true
   },
   "outputs": [],
   "source": [
    "def feedback_generator(output, location):\n",
    "    pdf = FPDF()\n",
    "    pdf.set_font(\"Arial\", size=12)\n",
    "    pdf.add_page()\n",
    "    for key in output:\n",
    "        # cell with 0 width and 10 height\n",
    "        # ln=1 is for line break\n",
    "        pdf.cell(0, 10, txt=\"{0} : {1}\".format(key, output[key]), ln=1, align= 'C')\n",
    "    pdf.output(location+ \"\\\\Feedback.pdf\")"
   ]
  },
  {
   "cell_type": "code",
   "execution_count": 24,
   "metadata": {},
   "outputs": [
    {
     "name": "stdout",
     "output_type": "stream",
     "text": [
      "null\n",
      "55.0\n",
      "null\n",
      "20.0\n",
      "15.0\n",
      "a\n",
      "40.0\n",
      "30.0\n",
      "c\n",
      "-58.0\n",
      "4.0\n",
      "d\n",
      "35.0\n",
      "22.0\n",
      "b\n",
      "55.0\n",
      "64.0\n",
      "a\n"
     ]
    }
   ],
   "source": [
    "row_list= []\n",
    "mcq= 0\n",
    "mcq_wrong= 0\n",
    "\n",
    "ans_df= pd.read_csv(\"answer.csv\")\n",
    "ans_df.set_index('Name', inplace=True)\n",
    "\n",
    "with open(\"file_info.txt\", 'r') as f:\n",
    "    file_name= f.readline()\n",
    "\n",
    "for folder in folder_list:\n",
    "    model_ans= {}\n",
    "    for column in ans_df.columns:\n",
    "        model_ans[column]= ans_df.loc[folder, column]\n",
    "    \n",
    "    i=0\n",
    "    location= os.path.join(os.curdir, folder)\n",
    "    fp = open(location+\"\\\\\"+file_name, 'rb')\n",
    "\n",
    "    parser = PDFParser(fp)\n",
    "    doc = PDFDocument(parser)\n",
    "    fields = resolve1(doc.catalog['AcroForm'])['Fields']\n",
    "    given_ans= {}\n",
    "    quest_type= {}\n",
    "    for i in fields:\n",
    "        field = resolve1(i)\n",
    "        name, value = field.get('T'), field.get('V')\n",
    "        name= name.decode('utf-8')\n",
    "        temp= str(value)\n",
    "        if(temp== \"b''\"):\n",
    "            value= \"null\"\n",
    "            quest_type[name]= 'numerical'\n",
    "        elif(temp== \"/'null'\"):\n",
    "            value= \"null\"\n",
    "            quest_type[name]= 'mcq'\n",
    "        else:\n",
    "            if(temp[0] == \"b\"):\n",
    "                quest_type[name]= 'numerical'\n",
    "                value= float(value.decode('utf-8'))\n",
    "            else:\n",
    "                quest_type[name]= 'mcq'\n",
    "                value= temp[2]\n",
    "    #     print ('{0}: {1}'.format(name, value))\n",
    "        given_ans[name]= value\n",
    "        print(value)\n",
    "    fp.close()\n",
    "    \n",
    "    output= {}\n",
    "    marks= {}\n",
    "    for key in given_ans:\n",
    "        if(given_ans[key] == \"null\"):\n",
    "            output[key]= \"You have not written any answer for this question.\"\n",
    "            marks[key]= -1\n",
    "        elif(type(given_ans[key])== float):  \n",
    "            # this for the negative answers, for negative ans the comparison operator reverses so made absolute\n",
    "            tmp_given_ans= given_ans[key]\n",
    "            tmp_model_ans= model_ans[key]\n",
    "            given_ans[key]= abs(given_ans[key])\n",
    "            model_ans[key]= abs(model_ans[key])\n",
    "        \n",
    "            if(tmp_given_ans== tmp_model_ans):\n",
    "                output[key]= \"Your answer is exactly correct. Hurray !!!\"\n",
    "                marks[key]= 1\n",
    "            elif(given_ans[key]<= 1.05*model_ans[key] and given_ans[key]>= 0.95*model_ans[key]):\n",
    "                output[key]= \"Your answer is within 5 percent range of the model answer. You got Full marks for this question !!\"\n",
    "                marks[key]= 0.95\n",
    "            elif(given_ans[key]<= 1.1*model_ans[key] and given_ans[key]>= 0.9*model_ans[key]):\n",
    "                output[key]= \"Your answer is within 10 percent range of the model answer. You got Half marks for this question.\"\n",
    "                marks[key]= 0.5\n",
    "            elif(given_ans[key]<= 1.25*model_ans[key] and given_ans[key]>= 0.75*model_ans[key]):\n",
    "                output[key]= \"Your answer is within 25 percent range of the model answer. You got Quarter marks for this question\"\n",
    "                marks[key]= 0.25\n",
    "            else:\n",
    "                output[key]= \"Your answer has more than 25 percent error. Please correct it.\"\n",
    "                marks[key]= 0\n",
    "        else:\n",
    "            if(given_ans[key] == model_ans[key]):\n",
    "                output[key]= \"Your answer is exactly correct. Hurray !!!\"\n",
    "                marks[key]= 1\n",
    "                mcq+=1\n",
    "            else:\n",
    "                output[key]= \"Your answer is Wrong. Please understand it.\"\n",
    "                marks[key]= 0\n",
    "                mcq_wrong+=1\n",
    "     \n",
    "\n",
    "    marks['Name']= folder\n",
    "    row_list.append(marks)\n",
    "    \n",
    "    feedback_generator(output, location)"
   ]
  },
  {
   "cell_type": "code",
   "execution_count": 25,
   "metadata": {},
   "outputs": [
    {
     "data": {
      "text/plain": [
       "[{'Name': 'Guilherme',\n",
       "  'quest1': -1,\n",
       "  'quest2': 0.5,\n",
       "  'quest3': -1,\n",
       "  'quest4': 0,\n",
       "  'quest5': 0.25,\n",
       "  'quest6': 1},\n",
       " {'Name': 'Mr. Stevan',\n",
       "  'quest1': 0.25,\n",
       "  'quest2': 0.25,\n",
       "  'quest3': 0,\n",
       "  'quest4': 0.95,\n",
       "  'quest5': 0,\n",
       "  'quest6': 1},\n",
       " {'Name': 'sudhanshu',\n",
       "  'quest1': 0.25,\n",
       "  'quest2': 0.5,\n",
       "  'quest3': 0,\n",
       "  'quest4': 1,\n",
       "  'quest5': 0,\n",
       "  'quest6': 1}]"
      ]
     },
     "execution_count": 25,
     "metadata": {},
     "output_type": "execute_result"
    }
   ],
   "source": [
    "row_list"
   ]
  },
  {
   "cell_type": "code",
   "execution_count": 26,
   "metadata": {},
   "outputs": [
    {
     "data": {
      "text/html": [
       "<div>\n",
       "<style>\n",
       "    .dataframe thead tr:only-child th {\n",
       "        text-align: right;\n",
       "    }\n",
       "\n",
       "    .dataframe thead th {\n",
       "        text-align: left;\n",
       "    }\n",
       "\n",
       "    .dataframe tbody tr th {\n",
       "        vertical-align: top;\n",
       "    }\n",
       "</style>\n",
       "<table border=\"1\" class=\"dataframe\">\n",
       "  <thead>\n",
       "    <tr style=\"text-align: right;\">\n",
       "      <th></th>\n",
       "      <th>quest1</th>\n",
       "      <th>quest2</th>\n",
       "      <th>quest3</th>\n",
       "      <th>quest4</th>\n",
       "      <th>quest5</th>\n",
       "      <th>quest6</th>\n",
       "    </tr>\n",
       "    <tr>\n",
       "      <th>Name</th>\n",
       "      <th></th>\n",
       "      <th></th>\n",
       "      <th></th>\n",
       "      <th></th>\n",
       "      <th></th>\n",
       "      <th></th>\n",
       "    </tr>\n",
       "  </thead>\n",
       "  <tbody>\n",
       "    <tr>\n",
       "      <th>Guilherme</th>\n",
       "      <td>-1.00</td>\n",
       "      <td>0.50</td>\n",
       "      <td>-1</td>\n",
       "      <td>0.00</td>\n",
       "      <td>0.25</td>\n",
       "      <td>1</td>\n",
       "    </tr>\n",
       "    <tr>\n",
       "      <th>Mr. Stevan</th>\n",
       "      <td>0.25</td>\n",
       "      <td>0.25</td>\n",
       "      <td>0</td>\n",
       "      <td>0.95</td>\n",
       "      <td>0.00</td>\n",
       "      <td>1</td>\n",
       "    </tr>\n",
       "    <tr>\n",
       "      <th>sudhanshu</th>\n",
       "      <td>0.25</td>\n",
       "      <td>0.50</td>\n",
       "      <td>0</td>\n",
       "      <td>1.00</td>\n",
       "      <td>0.00</td>\n",
       "      <td>1</td>\n",
       "    </tr>\n",
       "  </tbody>\n",
       "</table>\n",
       "</div>"
      ],
      "text/plain": [
       "            quest1  quest2  quest3  quest4  quest5  quest6\n",
       "Name                                                      \n",
       "Guilherme    -1.00    0.50      -1    0.00    0.25       1\n",
       "Mr. Stevan    0.25    0.25       0    0.95    0.00       1\n",
       "sudhanshu     0.25    0.50       0    1.00    0.00       1"
      ]
     },
     "execution_count": 26,
     "metadata": {},
     "output_type": "execute_result"
    }
   ],
   "source": [
    "cols= list(given_ans.keys())\n",
    "cols.insert(0, \"Name\")\n",
    "df= pd.DataFrame(row_list)\n",
    "df.set_index('Name', inplace= True)\n",
    "df.head()"
   ]
  },
  {
   "cell_type": "code",
   "execution_count": 14,
   "metadata": {
    "collapsed": true
   },
   "outputs": [],
   "source": [
    "df.to_csv(\"final_report.csv\")"
   ]
  },
  {
   "cell_type": "code",
   "execution_count": 30,
   "metadata": {},
   "outputs": [
    {
     "data": {
      "image/png": "[encoded data removed]",
      "text/plain": [
       "<matplotlib.figure.Figure at 0x1164c418978>"
      ]
     },
     "metadata": {},
     "output_type": "display_data"
    },
    {
     "data": {
      "image/png": "[encoded data removed]",
      "text/plain": [
       "<matplotlib.figure.Figure at 0x1164c265320>"
      ]
     },
     "metadata": {},
     "output_type": "display_data"
    },
    {
     "data": {
      "image/png": "[encoded data removed]",
      "text/plain": [
       "<matplotlib.figure.Figure at 0x11648e91668>"
      ]
     },
     "metadata": {},
     "output_type": "display_data"
    },
    {
     "data": {
      "image/png": "[encoded data removed]",
      "text/plain": [
       "<matplotlib.figure.Figure at 0x11647093c50>"
      ]
     },
     "metadata": {},
     "output_type": "display_data"
    },
    {
     "data": {
      "image/png": "[encoded data removed]",
      "text/plain": [
       "<matplotlib.figure.Figure at 0x11648ea16d8>"
      ]
     },
     "metadata": {},
     "output_type": "display_data"
    },
    {
     "data": {
      "image/png": "[encoded data removed]",
      "text/plain": [
       "<matplotlib.figure.Figure at 0x1164af516a0>"
      ]
     },
     "metadata": {},
     "output_type": "display_data"
    }
   ],
   "source": [
    "for column in df.columns:\n",
    "    total_std= len(df)\n",
    "    marks_list= list(df[column].values)\n",
    "    if(quest_type[column]== 'numerical'):\n",
    "        num= len(df[df[column] == 1])\n",
    "        num_5= len(df[df[column] == 0.95])\n",
    "        num_10= len(df[df[column] == 0.5])\n",
    "        num_25= len(df[df[column] == 0.25])\n",
    "        num_wrong= len(df[df[column] == 0])\n",
    "        num_left= len(df[df[column] == -1])\n",
    "        x=[0, 1, 2, 3, 4, 5]\n",
    "        plt.figure(figsize= (10,5))\n",
    "        plt.bar(x, height= [num, num_5, num_10, num_25, num_wrong, num_left])\n",
    "        plt.xticks(x, ['correct', 'within 5%', 'within 10%', 'within 25%', 'incorrect', 'Unattempted'])\n",
    "        plt.ylabel('No. of students')\n",
    "        plt.yticks(range(0, total_std+1))\n",
    "        plt.title(\"Question Number : \"+ str(column)+ \"    Numerical\")\n",
    "        plt.show()\n",
    "    else:\n",
    "        mcq= len(df[df[column] == 1])\n",
    "        mcq_wrong= len(df[df[column] == 0])\n",
    "        mcq_left= len(df[df[column] == -1])\n",
    "        x=[0, 1, 2]\n",
    "        plt.figure(figsize= (5,5))\n",
    "        plt.bar(x, height= [mcq, mcq_wrong, mcq_left])\n",
    "        plt.xticks(x, ['correct', 'incorrect', 'Unattempted'])\n",
    "        plt.ylabel('No. of students')\n",
    "        plt.yticks(range(0, total_std+1))\n",
    "        plt.title(\"Question Number : \"+ str(column)+ \"    MCQ\")\n",
    "        plt.show()"
   ]
  },
  {
   "cell_type": "code",
   "execution_count": null,
   "metadata": {
    "collapsed": true
   },
   "outputs": [],
   "source": []
  },
  {
   "cell_type": "code",
   "execution_count": null,
   "metadata": {
    "collapsed": true
   },
   "outputs": [],
   "source": []
  },
  {
   "cell_type": "code",
   "execution_count": 49,
   "metadata": {
    "collapsed": true
   },
   "outputs": [],
   "source": [
    "yint= range(0, 7)"
   ]
  },
  {
   "cell_type": "code",
   "execution_count": 62,
   "metadata": {},
   "outputs": [
    {
     "data": {
      "image/png": "[encoded data removed]",
      "text/plain": [
       "<matplotlib.figure.Figure at 0x1bcc771e9b0>"
      ]
     },
     "metadata": {},
     "output_type": "display_data"
    }
   ],
   "source": [
    "x=[0, 1, 2, 3, 4, 5]\n",
    "plt.figure(figsize= (10,5))\n",
    "plt.bar(x, height= [num, num_5, num_10, num_25, num_wrong, num_left])\n",
    "plt.xticks(x, ['correct', 'within 5%', 'within 10%', 'within 25%', 'incorrect', 'Unattempted'])\n",
    "plt.ylabel('No. of students')\n",
    "plt.yticks(yint)\n",
    "plt.show()"
   ]
  },
  {
   "cell_type": "code",
   "execution_count": 29,
   "metadata": {},
   "outputs": [
    {
     "data": {
      "image/png": "[encoded data removed]",
      "text/plain": [
       "<matplotlib.figure.Figure at 0x1bcc74c5ef0>"
      ]
     },
     "metadata": {},
     "output_type": "display_data"
    }
   ],
   "source": [
    "x=[0, 1]\n",
    "plt.bar(x, height= [mcq, mcq_wrong])\n",
    "plt.xticks(x, ['correct', 'incorrect'])\n",
    "plt.ylabel('No. of students')\n",
    "plt.yticks(yint)\n",
    "plt.show()"
   ]
  },
  {
   "cell_type": "code",
   "execution_count": null,
   "metadata": {
    "collapsed": true
   },
   "outputs": [],
   "source": []
  }
 ],
 "metadata": {
  "kernelspec": {
   "display_name": "Python 3",
   "language": "python",
   "name": "python3"
  },
  "language_info": {
   "codemirror_mode": {
    "name": "ipython",
    "version": 3
   },
   "file_extension": ".py",
   "mimetype": "text/x-python",
   "name": "python",
   "nbconvert_exporter": "python",
   "pygments_lexer": "ipython3",
   "version": "3.6.3"
  }
 },
 "nbformat": 4,
 "nbformat_minor": 2
}
